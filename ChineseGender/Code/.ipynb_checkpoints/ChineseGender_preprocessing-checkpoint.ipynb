{
 "cells": [
  {
   "cell_type": "code",
   "execution_count": 15,
   "id": "c098948a-39d8-4f00-ab9e-039a89870e5f",
   "metadata": {},
   "outputs": [
    {
     "name": "stderr",
     "output_type": "stream",
     "text": [
      "/var/folders/51/w5vwjwvj7wl_p7txgvf8ypbr0000gn/T/ipykernel_24041/2987606145.py:9: DtypeWarning: Columns (2) have mixed types. Specify dtype option on import or set low_memory=False.\n",
      "  data = pd.read_csv(file_path, delimiter='\\t', encoding='utf-8')\n"
     ]
    },
    {
     "name": "stdout",
     "output_type": "stream",
     "text": [
      "文件的前几行内容：\n",
      "   00000089A73D0B747BC6DAB3BAF4A428  胡建民  1.0  1979\n",
      "0  000000A14B95AB62F8039C17FB74807C  李忆寒  1.0  1992\n",
      "1  0000016C853A706574E74B341A64F305  刘洪超  1.0  1991\n",
      "2  00000293D29C774BD08993489C27E32E  马云霞  0.0  1972\n",
      "3  000002F2DA5C507AEF78D6AADE806BFB  高志意  1.0  1982\n",
      "4  000003515C8EA11BD869EDE734458429   隋新  1.0  1988\n",
      "\n",
      "数据的基本信息：\n",
      "<class 'pandas.core.frame.DataFrame'>\n",
      "RangeIndex: 30282623 entries, 0 to 30282622\n",
      "Data columns (total 4 columns):\n",
      " #   Column                            Dtype \n",
      "---  ------                            ----- \n",
      " 0   00000089A73D0B747BC6DAB3BAF4A428  object\n",
      " 1   胡建民                               object\n",
      " 2   1.0                               object\n",
      " 3   1979                              object\n",
      "dtypes: object(4)\n",
      "memory usage: 924.2+ MB\n",
      "None\n",
      "\n",
      "数据的描述性统计：\n",
      "        00000089A73D0B747BC6DAB3BAF4A428       胡建民         1.0      1979\n",
      "count                           30282623  30282620  29798255.0  30120431\n",
      "unique                          29904649   8987770         7.0     16700\n",
      "top     3389DAE361AF79B04C9C8E7057F60CC6        张伟         1.0      1970\n",
      "freq                               15173     13024  20625664.0    987569\n"
     ]
    }
   ],
   "source": [
    "#Check ChineseGenderraw dataset.\n",
    "import pandas as pd\n",
    "file_path = '/../../python/ChineseGender_raw0.txt'\n",
    "\n",
    "try:\n",
    "    data = pd.read_csv(file_path, delimiter='\\t', encoding='utf-8')\n",
    "    print(\"\\n数据的基本信息：\")#check basic information\n",
    "    print(data.info())\n",
    "    print(\"\\n数据的描述性统计：\")#check basic statistic information\n",
    "    print(data.describe())\n",
    "    \n",
    "except Exception as e:\n",
    "    print(f\"读取文件时出错: {e}\")\n"
   ]
  },
  {
   "cell_type": "code",
   "execution_count": 17,
   "id": "2b6cc012-a612-4b75-bf17-9dc059dd7e3c",
   "metadata": {},
   "outputs": [
    {
     "name": "stdout",
     "output_type": "stream",
     "text": [
      "Processing completed. Processed file saved to /Users/tongtong/Documents/python/ChineseGender_raw1.txt\n",
      "00000089A73D0B747BC6DAB3BAF4A428\t胡建民\t1.0\t1979\t胡\t建民\n",
      "000000A14B95AB62F8039C17FB74807C\t李忆寒\t1.0\t1992\t李\t忆寒\n",
      "0000016C853A706574E74B341A64F305\t刘洪超\t1.0\t1991\t刘\t洪超\n",
      "00000293D29C774BD08993489C27E32E\t马云霞\t0.0\t1972\t马\t云霞\n",
      "000002F2DA5C507AEF78D6AADE806BFB\t高志意\t1.0\t1982\t高\t志意\n",
      "000003515C8EA11BD869EDE734458429\t隋新\t1.0\t1988\t隋\t新\n",
      "00000360C8D7496D3AB87EA1B2C1CF56\t石恒新\t1.0\t1939\t石\t恒新\n",
      "000003B8831A9C73E524DC31631784C9\t黄自平\t1.0\t1969\t黄\t自平\n",
      "00000537442C5F01CB4D631EFC80A029\t乔晋伟\t1.0\t1983\t乔\t晋伟\n",
      "0000055FF3965E454CC3727079F814FB\t周海兵\t1.0\t1987\t周\t海兵\n"
     ]
    }
   ],
   "source": [
    "#Split first names and last names, coping with Chinese multiple surname.\n",
    "\n",
    "compound_surnames_dict = {\n",
    "    1: \"欧阳\", 2: \"太史\", 3: \"端木\", 4: \"上官\", 5: \"司马\", 6: \"东方\", 7: \"独孤\", 8: \"南宫\", 9: \"万俟\", 10: \"闻人\",\n",
    "    11: \"夏侯\", 12: \"诸葛\", 13: \"尉迟\", 14: \"公羊\", 15: \"赫连\", 16: \"澹台\", 17: \"皇甫\", 18: \"宗政\", 19: \"濮阳\",\n",
    "    20: \"公冶\", 21: \"太叔\", 22: \"申屠\", 23: \"公孙\", 24: \"慕容\", 25: \"仲孙\", 26: \"钟离\", 27: \"长孙\", 28: \"宇文\",\n",
    "    29: \"司徒\", 30: \"鲜于\", 31: \"司空\", 32: \"闾丘\", 33: \"子车\", 34: \"亓官\", 35: \"司寇\", 36: \"巫马\", 37: \"公西\",\n",
    "    38: \"颛孙\", 39: \"壤驷\", 40: \"公良\", 41: \"漆雕\", 42: \"乐正\", 43: \"宰父\", 44: \"谷梁\", 45: \"拓跋\", 46: \"夹谷\",\n",
    "    47: \"轩辕\", 48: \"令狐\", 49: \"段干\", 50: \"百里\", 51: \"呼延\", 52: \"东郭\", 53: \"南门\", 54: \"羊舌\", 55: \"微生\",\n",
    "    56: \"公户\", 57: \"公玉\", 58: \"公仪\", 59: \"梁丘\", 60: \"公仲\", 61: \"公上\", 62: \"公门\", 63: \"公山\", 64: \"公坚\",\n",
    "    65: \"左丘\", 66: \"公伯\", 67: \"西门\", 68: \"公祖\", 69: \"第五\", 70: \"公乘\", 71: \"贯丘\", 72: \"公皙\", 73: \"南荣\",\n",
    "    74: \"东里\", 75: \"东宫\", 76: \"仲长\", 77: \"子书\", 78: \"子桑\", 79: \"即墨\", 80: \"达奚\", 81: \"褚师\", 82: \"吴铭\"\n",
    "}# multiple suranmes dictionary \n",
    "compound_surnames = set(compound_surnames_dict.values())\n",
    "\n",
    "def process_name(name):\n",
    "    name = str(name)  \n",
    "    # checking multiple names\n",
    "    for surname in compound_surnames:\n",
    "        if name.startswith(surname):\n",
    "            return surname, name[len(surname):]\n",
    "    return name[0], name[1:]\n",
    "\n",
    "def process_chunk(chunk):\n",
    "    chunk[['姓', '名']] = chunk['姓名'].apply(lambda x: pd.Series(process_name(x)))\n",
    "    return chunk\n",
    "\n",
    "def process_file(input_file_path, output_file_path, chunksize=100000):\n",
    "    reader = pd.read_csv(input_file_path, sep='\\t', chunksize=chunksize, names=['ID', '姓名', '性别', '出生年份'])\n",
    "    for i, chunk in enumerate(reader):\n",
    "        processed_chunk = process_chunk(chunk)\n",
    "        if i == 0:\n",
    "            processed_chunk.to_csv(output_file_path, sep='\\t', index=False, header=False, mode='w')\n",
    "        else:\n",
    "            processed_chunk.to_csv(output_file_path, sep='\\t', index=False, header=False, mode='a')\n",
    "\n",
    "input_file_path = '/.../.../ChineseGender_raw0.txt'\n",
    "output_file_path = '/.../.../ChineseGender_raw1.txt'\n",
    "\n",
    "process_file(input_file_path, output_file_path)\n",
    "print(f\"Processing completed. Processed file saved to {output_file_path}\")\n",
    "\n",
    "def print_first_n_lines(file_path, n=10):\n",
    "    try:\n",
    "        with open(file_path, 'r', encoding='utf-8') as file:\n",
    "            for i in range(n):\n",
    "                line = file.readline()\n",
    "                if not line:\n",
    "                    break  \n",
    "                print(line.strip())  \n",
    "    except FileNotFoundError:\n",
    "        print(f\"The file at {file_path} was not found.\")\n",
    "    except Exception as e:\n",
    "        print(f\"An error occurred: {e}\")\n",
    "\n",
    "print_first_n_lines(output_file_path, 10)\n"
   ]
  },
  {
   "cell_type": "code",
   "execution_count": 19,
   "id": "78ec7753-a0bb-4aa1-b715-95ff0f8f2cfc",
   "metadata": {},
   "outputs": [
    {
     "name": "stderr",
     "output_type": "stream",
     "text": [
      "/var/folders/51/w5vwjwvj7wl_p7txgvf8ypbr0000gn/T/ipykernel_86817/3664853181.py:23: DtypeWarning: Columns (2) have mixed types. Specify dtype option on import or set low_memory=False.\n",
      "  data = pd.read_csv(input_file, delimiter='\\t', encoding='utf-8')\n"
     ]
    },
    {
     "name": "stdout",
     "output_type": "stream",
     "text": [
      "发现 34916 行包含英文、数字或标点符号，已删除这些行。\n",
      "清洗后的数据共有 29674387 行。\n",
      "清洗后的数据已保存到 /Users/tongtong/Documents/python/ChineseGender_cleaned.txt\n"
     ]
    }
   ],
   "source": [
    "#data preprocessing\n",
    "#Delete lines containing letters, numbers, and punctuation.\n",
    "#Limit the name length to 4.\n",
    "import re\n",
    "\n",
    "input_file = '/.../.../ChineseGender_raw1.txt'\n",
    "output_file = '/.../.../ChineseGender_cleaned.txt'\n",
    "\n",
    "compound_surnames_dict = {\n",
    "    1: \"欧阳\", 2: \"太史\", 3: \"端木\", 4: \"上官\", 5: \"司马\", 6: \"东方\", 7: \"独孤\", 8: \"南宫\", 9: \"万俟\", 10: \"闻人\",\n",
    "    11: \"夏侯\", 12: \"诸葛\", 13: \"尉迟\", 14: \"公羊\", 15: \"赫连\", 16: \"澹台\", 17: \"皇甫\", 18: \"宗政\", 19: \"濮阳\",\n",
    "    20: \"公冶\", 21: \"太叔\", 22: \"申屠\", 23: \"公孙\", 24: \"慕容\", 25: \"仲孙\", 26: \"钟离\", 27: \"长孙\", 28: \"宇文\",\n",
    "    29: \"司徒\", 30: \"鲜于\", 31: \"司空\", 32: \"闾丘\", 33: \"子车\", 34: \"亓官\", 35: \"司寇\", 36: \"巫马\", 37: \"公西\",\n",
    "    38: \"颛孙\", 39: \"壤驷\", 40: \"公良\", 41: \"漆雕\", 42: \"乐正\", 43: \"宰父\", 44: \"谷梁\", 45: \"拓跋\", 46: \"夹谷\",\n",
    "    47: \"轩辕\", 48: \"令狐\", 49: \"段干\", 50: \"百里\", 51: \"呼延\", 52: \"东郭\", 53: \"南门\", 54: \"羊舌\", 55: \"微生\",\n",
    "    56: \"公户\", 57: \"公玉\", 58: \"公仪\", 59: \"梁丘\", 60: \"公仲\", 61: \"公上\", 62: \"公门\", 63: \"公山\", 64: \"公坚\",\n",
    "    65: \"左丘\", 66: \"公伯\", 67: \"西门\", 68: \"公祖\", 69: \"第五\", 70: \"公乘\", 71: \"贯丘\", 72: \"公皙\", 73: \"南荣\",\n",
    "    74: \"东里\", 75: \"东宫\", 76: \"仲长\", 77: \"子书\", 78: \"子桑\", 79: \"即墨\", 80: \"达奚\", 81: \"褚师\", 82: \"吴铭\"\n",
    "}\n",
    "\n",
    "data = pd.read_csv(input_file, delimiter='\\t', encoding='utf-8')\n",
    "data = data.dropna(subset=[data.columns[1], data.columns[2]])\n",
    "\n",
    "def contains_punctuation_english_or_digits(text):\n",
    "    if pd.isna(text): \n",
    "        return False\n",
    "    text = str(text)  \n",
    "    return bool(re.search(r'[a-zA-Z0-9\\u0020-\\u0040\\u005b-\\u0060\\u007b-\\u007e\\u3000-\\u303f\\uff00-\\uffef]', text))\n",
    "\n",
    "column_to_check = data.iloc[:, 1]  \n",
    "rows_to_delete = column_to_check.apply(contains_punctuation_english_or_digits)\n",
    "error_count = rows_to_delete.sum()\n",
    "print(f\"发现 {error_count} 行包含英文、数字或标点符号，已删除这些行。\")\n",
    "data_cleaned = data[~rows_to_delete]\n",
    "data_cleaned = data_cleaned[data_cleaned.iloc[:, 1].apply(lambda x: 2 <= len(str(x)) <= 4 if pd.notna(x) else False)]\n",
    "\n",
    "def is_valid_compound_surname(name):\n",
    "    if pd.isna(name):\n",
    "        return False\n",
    "    name = str(name)\n",
    "    if len(name) == 4:\n",
    "        surname = name[:2]  \n",
    "        given_name = name[2:]  \n",
    "        return surname in compound_surnames_dict.values() and len(given_name) == 2\n",
    "    return True  \n",
    "\n",
    "data_cleaned = data_cleaned[data_cleaned.iloc[:, 1].apply(is_valid_compound_surname)]\n",
    "cleaned_row_count = len(data_cleaned)\n",
    "print(f\"清洗后的数据共有 {cleaned_row_count} 行。\")\n",
    "data_cleaned.to_csv(output_file, sep='\\t', index=False, encoding='utf-8')\n",
    "print(f\"清洗后的数据已保存到 {output_file}\")\n"
   ]
  },
  {
   "cell_type": "code",
   "execution_count": 1,
   "id": "b92112b2-9347-4dec-bf48-feb06fd1a9c9",
   "metadata": {},
   "outputs": [
    {
     "name": "stdout",
     "output_type": "stream",
     "text": [
      "Requirement already satisfied: pypinyin in /opt/anaconda3/lib/python3.12/site-packages (0.51.0)\n",
      "Note: you may need to restart the kernel to use updated packages.\n"
     ]
    }
   ],
   "source": [
    "#install Pinyin converting tool:https://pypi.org/project/pypinyin/\n",
    "pip install pypinyin"
   ]
  },
  {
   "cell_type": "code",
   "execution_count": 21,
   "id": "32a921a9-9986-474d-817d-9ac5a7c1e0d8",
   "metadata": {},
   "outputs": [
    {
     "name": "stderr",
     "output_type": "stream",
     "text": [
      "100%|██████████████████████████| 29674388/29674388 [06:01<00:00, 82054.87line/s]"
     ]
    },
    {
     "name": "stdout",
     "output_type": "stream",
     "text": [
      "Total lines in converted file: 11\n",
      "\n",
      "First 10 lines in converted file:\n",
      "1: 00000089A73D0B747BC6DAB3BAF4A428\t胡建民\t1.0\t1979\t胡\t建民\thu\tjianmin\n",
      "2: 000000A14B95AB62F8039C17FB74807C\t李忆寒\t1.0\t1992\t李\t忆寒\tli\tyihan\n",
      "3: 0000016C853A706574E74B341A64F305\t刘洪超\t1.0\t1991\t刘\t洪超\tliu\thongchao\n",
      "4: 00000293D29C774BD08993489C27E32E\t马云霞\t0.0\t1972\t马\t云霞\tma\tyunxia\n",
      "5: 000002F2DA5C507AEF78D6AADE806BFB\t高志意\t1.0\t1982\t高\t志意\tgao\tzhiyi\n",
      "6: 000003515C8EA11BD869EDE734458429\t隋新\t1.0\t1988\t隋\t新\tsui\txin\n",
      "7: 00000360C8D7496D3AB87EA1B2C1CF56\t石恒新\t1.0\t1939\t石\t恒新\tshi\thengxin\n",
      "8: 000003B8831A9C73E524DC31631784C9\t黄自平\t1.0\t1969\t黄\t自平\thuang\tziping\n",
      "9: 00000537442C5F01CB4D631EFC80A029\t乔晋伟\t1.0\t1983\t乔\t晋伟\tqiao\tjinwei\n",
      "10: 0000055FF3965E454CC3727079F814FB\t周海兵\t1.0\t1987\t周\t海兵\tzhou\thaibing\n"
     ]
    },
    {
     "name": "stderr",
     "output_type": "stream",
     "text": [
      "\n"
     ]
    }
   ],
   "source": [
    "#converting Chinese names to Pinyin formats\n",
    "import pypinyin\n",
    "from tqdm import tqdm\n",
    "#Manual correction of incorrect conversion rules\n",
    "corrections = {\n",
    "    '思': 'si', \n",
    "    '育': 'yu',\n",
    "    '若': 'ruo',\n",
    "    '敦': 'dun',\n",
    "    '朴': 'pu',\n",
    "    '露': 'lu',\n",
    "    '陆': 'lu',\n",
    "    '男': 'nan',\n",
    "    '南': 'nan',\n",
    "    '楠': 'nan',\n",
    "    '钠': 'na',\n",
    "    '娜': 'na',\n",
    "    '拓': 'tuo',\n",
    "    '觉': 'jue',\n",
    "}\n",
    "\n",
    "def convert_to_pinyin(text):\n",
    "    pinyin_list = pypinyin.lazy_pinyin(text)\n",
    "    corrected_pinyin = []\n",
    "    for char, pinyin_char in zip(text, pinyin_list):\n",
    "        if char in corrections:\n",
    "            corrected_pinyin.append(corrections[char])  \n",
    "        else:\n",
    "            corrected_pinyin.append(pinyin_char)  \n",
    "    return ''.join(corrected_pinyin)\n",
    "\n",
    "input_file = '/.../.../ChineseGender_cleaned.txt'\n",
    "output_file = '/.../.../ChineseGender_cleaned1.txt'\n",
    "\n",
    "total_lines = sum(1 for line in open(input_file, 'r', encoding='utf-8'))\n",
    "\n",
    "with open(input_file, 'r', encoding='utf-8') as infile, open(output_file, 'w', encoding='utf-8') as outfile:\n",
    "    for line in tqdm(infile, total=total_lines, unit='line'):\n",
    "        parts = line.strip().split('\\t')\n",
    "        if len(parts) >= 6:\n",
    "            parts.append(convert_to_pinyin(parts[4]))  \n",
    "            parts.append(convert_to_pinyin(parts[5]))  \n",
    "        new_line = '\\t'.join(parts) + '\\n'\n",
    "        outfile.write(new_line)\n",
    "\n",
    "converted_lines = 0\n",
    "with open(output_file, 'r', encoding='utf-8') as outfile:\n",
    "    converted_first_ten_lines = []\n",
    "    for line in outfile:\n",
    "        converted_lines += 1\n",
    "        if converted_lines <= 10:\n",
    "            converted_first_ten_lines.append(line.strip())\n",
    "        if converted_lines > 10:\n",
    "            break\n",
    "\n",
    "print(f\"Total lines in converted file: {converted_lines}\")\n",
    "print(\"\\nFirst 10 lines in converted file:\")\n",
    "for idx, line in enumerate(converted_first_ten_lines):\n",
    "    print(f\"{idx + 1}: {line}\")\n"
   ]
  },
  {
   "cell_type": "code",
   "execution_count": 23,
   "id": "5b068486-4fdb-46a3-ad43-3897bcd23489",
   "metadata": {},
   "outputs": [
    {
     "name": "stdout",
     "output_type": "stream",
     "text": [
      "Starting the first pass to count names...\n"
     ]
    },
    {
     "name": "stderr",
     "output_type": "stream",
     "text": [
      "29674388it [00:19, 1509979.05it/s]\n"
     ]
    },
    {
     "name": "stdout",
     "output_type": "stream",
     "text": [
      "Starting the second pass to write counts back to the original file...\n"
     ]
    },
    {
     "name": "stderr",
     "output_type": "stream",
     "text": [
      "29674388it [00:40, 738158.02it/s]\n"
     ]
    },
    {
     "name": "stdout",
     "output_type": "stream",
     "text": [
      "Processing completed in 65.12 seconds.\n",
      "Total lines in converted file: 11\n",
      "\n",
      "First 10 lines in converted file:\n",
      "1: 00000089A73D0B747BC6DAB3BAF4A428\t胡建民\t1.0\t1979\t胡\t建民\thu\tjianmin\t20551\t18462\t0.8983504452338086\n",
      "2: 000000A14B95AB62F8039C17FB74807C\t李忆寒\t1.0\t1992\t李\t忆寒\tli\tyihan\t1012\t491\t0.4851778656126482\n",
      "3: 0000016C853A706574E74B341A64F305\t刘洪超\t1.0\t1991\t刘\t洪超\tliu\thongchao\t3199\t3021\t0.944357611753673\n",
      "4: 00000293D29C774BD08993489C27E32E\t马云霞\t0.0\t1972\t马\t云霞\tma\tyunxia\t7406\t190\t0.025654874426140967\n",
      "5: 000002F2DA5C507AEF78D6AADE806BFB\t高志意\t1.0\t1982\t高\t志意\tgao\tzhiyi\t4726\t4271\t0.9037240795598815\n",
      "6: 000003515C8EA11BD869EDE734458429\t隋新\t1.0\t1988\t隋\t新\tsui\txin\t73600\t51661\t0.7019157608695652\n",
      "7: 00000360C8D7496D3AB87EA1B2C1CF56\t石恒新\t1.0\t1939\t石\t恒新\tshi\thengxin\t429\t396\t0.9230769230769231\n",
      "8: 000003B8831A9C73E524DC31631784C9\t黄自平\t1.0\t1969\t黄\t自平\thuang\tziping\t2217\t1700\t0.7668019846639603\n",
      "9: 00000537442C5F01CB4D631EFC80A029\t乔晋伟\t1.0\t1983\t乔\t晋伟\tqiao\tjinwei\t5756\t5284\t0.9179986101459346\n",
      "10: 0000055FF3965E454CC3727079F814FB\t周海兵\t1.0\t1987\t周\t海兵\tzhou\thaibing\t5046\t4905\t0.9720570749108205\n"
     ]
    }
   ],
   "source": [
    "#Pinyin names analysis-total number& male number& male_probability\n",
    "import os\n",
    "from collections import defaultdict\n",
    "import time\n",
    "from tqdm import tqdm\n",
    "\n",
    "\n",
    "name_counts = defaultdict(int)\n",
    "name_male_counts = defaultdict(int)\n",
    "\n",
    "output_file = '/.../.../ChineseGender_cleaned1.txt'\n",
    "\n",
    "start_time = time.time()\n",
    "\n",
    "print(\"Starting the first pass to count names...\")\n",
    "with open(output_file, 'r', encoding='utf-8') as infile:\n",
    "    for line in tqdm(infile):\n",
    "        parts = line.strip().split('\\t')\n",
    "        if len(parts) >= 8:\n",
    "            name = parts[7]\n",
    "            name_counts[name] += 1\n",
    "            if parts[2] == '1.0':  \n",
    "                name_male_counts[name] += 1\n",
    "\n",
    "print(\"Starting the second pass to write counts back to the original file...\")\n",
    "lines = []\n",
    "\n",
    "with open(output_file, 'r', encoding='utf-8') as infile:\n",
    "    for line in tqdm(infile):\n",
    "        parts = line.strip().split('\\t')\n",
    "        if len(parts) >= 8:\n",
    "            name = parts[7]\n",
    "            total_count = name_counts[name]\n",
    "            male_count = name_male_counts[name]\n",
    "            male_probability = male_count / total_count if total_count != 0 else 0\n",
    "            parts.append(str(total_count))\n",
    "            parts.append(str(male_count))\n",
    "            parts.append(str(male_probability))\n",
    "        new_line = '\\t'.join(parts) + '\\n'\n",
    "        lines.append(new_line)\n",
    "\n",
    "with open(output_file, 'w', encoding='utf-8') as outfile:\n",
    "    outfile.writelines(lines)\n",
    "\n",
    "end_time = time.time()\n",
    "elapsed_time = end_time - start_time\n",
    "print(f\"Processing completed in {elapsed_time:.2f} seconds.\")\n",
    "\n",
    "converted_lines = 0\n",
    "converted_first_ten_lines = []\n",
    "\n",
    "with open(output_file, 'r', encoding='utf-8') as outfile:\n",
    "    for line in outfile:\n",
    "        converted_lines += 1\n",
    "        if converted_lines <= 10:\n",
    "            converted_first_ten_lines.append(line.strip())\n",
    "        if converted_lines > 10:\n",
    "            break\n",
    "\n",
    "print(f\"Total lines in converted file: {converted_lines}\")\n",
    "\n",
    "print(\"\\nFirst 10 lines in converted file:\")\n",
    "for idx, line in enumerate(converted_first_ten_lines):\n",
    "    print(f\"{idx + 1}: {line}\")\n"
   ]
  },
  {
   "cell_type": "code",
   "execution_count": 25,
   "id": "71429500-6838-4a8c-b1c6-b3a672d9686e",
   "metadata": {},
   "outputs": [
    {
     "name": "stdout",
     "output_type": "stream",
     "text": [
      "Starting the first pass to count names...\n"
     ]
    },
    {
     "name": "stderr",
     "output_type": "stream",
     "text": [
      "29674388it [00:25, 1158564.92it/s]\n"
     ]
    },
    {
     "name": "stdout",
     "output_type": "stream",
     "text": [
      "Starting the second pass to write counts back to the original file...\n"
     ]
    },
    {
     "name": "stderr",
     "output_type": "stream",
     "text": [
      "29674388it [00:49, 594644.63it/s]\n"
     ]
    },
    {
     "name": "stdout",
     "output_type": "stream",
     "text": [
      "Processing completed in 82.59 seconds.\n",
      "Total lines in converted file: 51\n",
      "\n",
      "First 50 lines in converted file:\n",
      "1: 00000089A73D0B747BC6DAB3BAF4A428\t胡建民\t1.0\t1979\t胡\t建民\thu\tjianmin\t20551\t18462\t0.8983504452338086\t14295\t13883\t0.971178733823015\n",
      "2: 000000A14B95AB62F8039C17FB74807C\t李忆寒\t1.0\t1992\t李\t忆寒\tli\tyihan\t1012\t491\t0.4851778656126482\t4\t3\t0.75\n",
      "3: 0000016C853A706574E74B341A64F305\t刘洪超\t1.0\t1991\t刘\t洪超\tliu\thongchao\t3199\t3021\t0.944357611753673\t1061\t1011\t0.9528746465598492\n",
      "4: 00000293D29C774BD08993489C27E32E\t马云霞\t0.0\t1972\t马\t云霞\tma\tyunxia\t7406\t190\t0.025654874426140967\t6192\t109\t0.017603359173126616\n",
      "5: 000002F2DA5C507AEF78D6AADE806BFB\t高志意\t1.0\t1982\t高\t志意\tgao\tzhiyi\t4726\t4271\t0.9037240795598815\t77\t59\t0.7662337662337663\n",
      "6: 000003515C8EA11BD869EDE734458429\t隋新\t1.0\t1988\t隋\t新\tsui\txin\t73600\t51661\t0.7019157608695652\t14250\t11209\t0.7865964912280702\n",
      "7: 00000360C8D7496D3AB87EA1B2C1CF56\t石恒新\t1.0\t1939\t石\t恒新\tshi\thengxin\t429\t396\t0.9230769230769231\t206\t191\t0.9271844660194175\n",
      "8: 000003B8831A9C73E524DC31631784C9\t黄自平\t1.0\t1969\t黄\t自平\thuang\tziping\t2217\t1700\t0.7668019846639603\t543\t489\t0.9005524861878453\n",
      "9: 00000537442C5F01CB4D631EFC80A029\t乔晋伟\t1.0\t1983\t乔\t晋伟\tqiao\tjinwei\t5756\t5284\t0.9179986101459346\t255\t253\t0.9921568627450981\n",
      "10: 0000055FF3965E454CC3727079F814FB\t周海兵\t1.0\t1987\t周\t海兵\tzhou\thaibing\t5046\t4905\t0.9720570749108205\t4675\t4613\t0.9867379679144385\n",
      "11: 00000575E355A2477E2059F1F1CE1B5B\t傅荣霞\t0.0\t1966\t傅\t荣霞\tfu\trongxia\t979\t39\t0.03983656792645557\t676\t13\t0.019230769230769232\n",
      "12: 000005DD6A39210A0ED15518A09E5D6A\t邵希平\t0.0\t1963\t邵\t希平\tshao\txiping\t5726\t4030\t0.703807195249738\t736\t600\t0.8152173913043478\n",
      "13: 00000681EBA9D9224204DA18723BEE31\t韦小红\t0.0\t1984\t韦\t小红\twei\txiaohong\t37345\t8177\t0.21895836122640247\t16797\t3414\t0.20325058046079658\n",
      "14: 0000073CDF82DE9E2B924AC711C5F1F0\t马正光\t1.0\t1959\t马\t正光\tma\tzhengguang\t1542\t1514\t0.9818417639429312\t774\t763\t0.9857881136950905\n",
      "15: 00000757C13C4ADA40083B9A26BEC01F\t丰国荣\t1.0\t1963\t丰\t国荣\tfeng\tguorong\t9746\t8071\t0.8281346193310076\t9130\t7905\t0.8658269441401971\n",
      "16: 000007C9616F8642E7D91E72EA3DE1A4\t宋贵岩\t1.0\t1963\t宋\t贵岩\tsong\tguiyan\t1725\t292\t0.16927536231884058\t26\t24\t0.9230769230769231\n",
      "17: 000007F35C4DC64D3F635986DC7296CC\t郭志敬\t1.0\t1991\t郭\t志敬\tguo\tzhijing\t1188\t738\t0.6212121212121212\t168\t144\t0.8571428571428571\n",
      "18: 000008220255501EB85184CFA2FC9910\t郭金龙\t1.0\t1988\t郭\t金龙\tguo\tjinlong\t16326\t16129\t0.9879333578341296\t14433\t14260\t0.9880135799903\n",
      "19: 00000917BC4DCD0374047CD3C0A6CEBE\t周文婵\t0.0\t1953\t周\t文婵\tzhou\twenchan\t86\t22\t0.2558139534883721\t54\t0\t0.0\n",
      "20: 00000C5B10B2BEADF8E81C0B022ADCAC\t贺亚莎\t0.0\t2001\t贺\t亚莎\the\tyasha\t85\t10\t0.11764705882352941\t33\t1\t0.030303030303030304\n",
      "21: 00000C5BDEB4D328466ED93F45B3EC58\t赵良海\t1.0\t1953\t赵\t良海\tzhao\tlianghai\t573\t562\t0.9808027923211169\t520\t511\t0.9826923076923076\n",
      "22: 00000D6E062A03C17E7AD9A9E3F0E91A\t王莉\t0.0\t1965\t王\t莉\twang\tli\t155563\t41925\t0.26950495940551417\t39409\t385\t0.009769342028470653\n",
      "23: 00000EAA0ADA7A39FCB6DF81BAA394A5\t王学年\t1.0\t1963\t王\t学年\twang\txuenian\t260\t222\t0.8538461538461538\t172\t160\t0.9302325581395349\n",
      "24: 00000FA3916BE374E69650C770EDA7C9\t张振达\t1.0\t1987\t张\t振达\tzhang\tzhenda\t351\t345\t0.9829059829059829\t276\t274\t0.9927536231884058\n",
      "25: 00000FB7A413B5791ED365EBBB7E222E\t姚毅\t1.0\t1987\t姚\t毅\tyao\tyi\t84150\t62449\t0.7421152703505645\t30248\t27299\t0.902505950806665\n",
      "26: 00001070DFC9E5F356FEA866D08A53EC\t龚贵清\t1.0\t1969\t龚\t贵清\tgong\tguiqing\t4611\t2130\t0.46193884189980483\t736\t638\t0.8668478260869565\n",
      "27: 000010CC16C2195B34AB6D503AEF601C\t李阳阳\t0.0\t1991\t李\t阳阳\tli\tyangyang\t5795\t3894\t0.6719585849870578\t1663\t1154\t0.6939266386049309\n",
      "28: 000010D2C017D6E9D0E226635213C68C\t唐海南\t1.0\t1963\t唐\t海南\ttang\thainan\t1035\t827\t0.7990338164251207\t815\t688\t0.8441717791411043\n",
      "29: 000010FD012C153109AAB37281373326\t陈威\t1.0\t1983\t陈\t威\tchen\twei\t248177\t198871\t0.8013272785149309\t19361\t17336\t0.8954082950260833\n",
      "30: 000011327686863488974185F43D3601\t陈曙\t0.0\t1957\t陈\t曙\tchen\tshu\t8091\t4681\t0.578544061302682\t812\t678\t0.8349753694581281\n",
      "31: 000011CC4CC7FCAB82BD9152A13663B1\t童菊英\t0.0\t1950\t童\t菊英\ttong\tjuying\t5077\t125\t0.024620839078195785\t4720\t32\t0.006779661016949152\n",
      "32: 000012B94FB5E3876457E65BDF4045FE\t曾小年\t0.0\t1954\t曾\t小年\tceng\txiaonian\t690\t469\t0.6797101449275362\t448\t301\t0.671875\n",
      "33: 00001446149DBD005032114798DBED28\t李学国\t1.0\t1965\t李\t学国\tli\txueguo\t667\t648\t0.9715142428785607\t624\t613\t0.9823717948717948\n",
      "34: 000014F1EE583C86F825EE6EF683E0DD\t岳彬\t1.0\t1976\t岳\t彬\tyue\tbin\t115954\t107459\t0.9267381892819566\t26402\t22757\t0.8619422771002196\n",
      "35: 000015019CEFB70E542B684BDAD822B3\t程克东\t1.0\t1977\t程\t克东\tcheng\tkedong\t764\t753\t0.9856020942408377\t391\t383\t0.979539641943734\n",
      "36: 0000163291A93BD88D6B23428F573DC3\t周瑞\t0.0\t1980\t周\t瑞\tzhou\trui\t39960\t25425\t0.6362612612612613\t14523\t9600\t0.6610204503201818\n",
      "37: 000016821A96FE63425F3E8ABC4DB915\t朱金娥\t0.0\t1963\t朱\t金娥\tzhu\tjine\t2494\t57\t0.02285485164394547\t2296\t34\t0.014808362369337979\n",
      "38: 0000177ED40649CD86D3AE5E9079CA5B\t蒋明权\t1.0\t1978\t蒋\t明权\tjiang\tmingquan\t3586\t3506\t0.9776910206358059\t1069\t1047\t0.9794200187090739\n",
      "39: 000017BC31B7BA9256061446CFFC782A\t李洪恩\t1.0\t1962\t李\t洪恩\tli\thongen\t1150\t1116\t0.9704347826086956\t564\t551\t0.9769503546099291\n",
      "40: 000017CF536B16A66D802A06FBE6876B\t田宗辉\t1.0\t1960\t田\t宗辉\ttian\tzonghui\t1170\t884\t0.7555555555555555\t669\t635\t0.9491778774289985\n",
      "41: 000018D0E5FC41B0A1115B9033602C7B\t张小丽\t0.0\t1970\t张\t小丽\tzhang\txiaoli\t30561\t3899\t0.127580903766238\t6996\t84\t0.012006861063464836\n",
      "42: 00001915F1C4778AC38F4B2E887C57E5\t兰小平\t1.0\t1963\t兰\t小平\tlan\txiaoping\t39812\t21552\t0.5413443182959912\t23679\t17027\t0.7190759744921661\n",
      "43: 000019702670D038D404656461071FFD\t董德军\t1.0\t1957\t董\t德军\tdong\tdejun\t9503\t9147\t0.9625381458486794\t5690\t5610\t0.9859402460456942\n",
      "44: 00001A0D7F7C104A51DA4D97D7AAB0F5\t刘恒异\t1.0\t1973\t刘\t恒异\tliu\thengyi\t534\t497\t0.9307116104868914\t1\t1\t1.0\n",
      "45: 00001AB66CBCF0C400A50BFA1184138C\t朱长建\t1.0\t1987\t朱\t长建\tzhu\tzhangjian\t1322\t1295\t0.9795763993948563\t558\t544\t0.974910394265233\n",
      "46: 00001C2F6A54D4383D35AB013E293B47\t周智龙\t1.0\t1988\t周\t智龙\tzhou\tzhilong\t5868\t5802\t0.9887525562372188\t399\t392\t0.9824561403508771\n",
      "47: 00001C8CF7A881567FE2222E9F6CFCDE\t徐璐清\t0.0\t1975\t徐\t璐清\txu\tluqing\t459\t331\t0.7211328976034859\t1\t0\t0.0\n",
      "48: 00001D2CD4A1D3CD43C15E3B2D219C15\t吴春水\t1.0\t1975\t吴\t春水\twu\tchunshui\t711\t684\t0.9620253164556962\t695\t668\t0.9611510791366906\n",
      "49: 00001D8EF21A169842F0F3C9A9ADDD5E\t吴学谨\t0.0\t1977\t吴\t学谨\twu\txuejin\t2007\t1547\t0.770802192326856\t3\t2\t0.6666666666666666\n",
      "50: 00001F17044BEC15CEBA88C531850C5B\t邓兴萍\t0.0\t1952\t邓\t兴萍\tdeng\txingping\t2840\t2084\t0.7338028169014085\t235\t15\t0.06382978723404255\n"
     ]
    }
   ],
   "source": [
    "#Pinyin names analysis-total number& male number& male_probability\n",
    "\n",
    "name_counts = defaultdict(int)\n",
    "name_male_counts = defaultdict(int)\n",
    "\n",
    "output_file = '/.../.../ChineseGender_cleaned1.txt'\n",
    "\n",
    "start_time = time.time()\n",
    "\n",
    "print(\"Starting the first pass to count names...\")\n",
    "with open(output_file, 'r', encoding='utf-8') as infile:\n",
    "    for line in tqdm(infile):\n",
    "        parts = line.strip().split('\\t')\n",
    "        if len(parts) >= 6:\n",
    "            name = parts[5]  \n",
    "            name_counts[name] += 1\n",
    "            if parts[2] == '1.0':  #in our dataset, 1 stands for male, 0 stands for female.\n",
    "                name_male_counts[name] += 1\n",
    "\n",
    "print(\"Starting the second pass to write counts back to the original file...\")\n",
    "lines = []\n",
    "\n",
    "with open(output_file, 'r', encoding='utf-8') as infile:\n",
    "    for line in tqdm(infile):\n",
    "        parts = line.strip().split('\\t')\n",
    "        if len(parts) >= 6:\n",
    "            name = parts[5]  \n",
    "            total_count = name_counts[name]\n",
    "            male_count = name_male_counts[name]\n",
    "            male_probability = male_count / total_count if total_count != 0 else 0\n",
    "            parts.append(str(total_count))  \n",
    "            parts.append(str(male_count))  \n",
    "            parts.append(str(male_probability))  \n",
    "        new_line = '\\t'.join(parts) + '\\n'\n",
    "        lines.append(new_line)\n",
    "\n",
    "with open(output_file, 'w', encoding='utf-8') as outfile:\n",
    "    outfile.writelines(lines)\n",
    "\n",
    "end_time = time.time()\n",
    "elapsed_time = end_time - start_time\n",
    "print(f\"Processing completed in {elapsed_time:.2f} seconds.\")\n",
    "\n",
    "converted_lines = 0\n",
    "converted_first_thirty_lines = []\n",
    "\n",
    "with open(output_file, 'r', encoding='utf-8') as outfile:\n",
    "    for line in outfile:\n",
    "        converted_lines += 1\n",
    "        if converted_lines <= 50:  \n",
    "            converted_first_thirty_lines.append(line.strip())\n",
    "        if converted_lines > 50:\n",
    "            break\n",
    "\n",
    "print(f\"Total lines in converted file: {converted_lines}\")\n",
    "\n",
    "print(\"\\nFirst 50 lines in converted file:\")\n",
    "for idx, line in enumerate(converted_first_thirty_lines):\n",
    "    print(f\"{idx + 1}: {line}\")\n"
   ]
  },
  {
   "cell_type": "code",
   "execution_count": 27,
   "id": "787b49f6-bc86-4ba6-9ae7-3d32cbe470b7",
   "metadata": {},
   "outputs": [
    {
     "name": "stderr",
     "output_type": "stream",
     "text": [
      "/var/folders/51/w5vwjwvj7wl_p7txgvf8ypbr0000gn/T/ipykernel_86817/2898069883.py:8: DtypeWarning: Columns (3) have mixed types. Specify dtype option on import or set low_memory=False.\n",
      "  df = pd.read_csv(input_file, delimiter='\\t', header=None)\n"
     ]
    },
    {
     "name": "stdout",
     "output_type": "stream",
     "text": [
      "前十行预览：\n",
      "                                 id orig_name  gender b_year  姓   名  lname  \\\n",
      "0  00000089A73D0B747BC6DAB3BAF4A428       胡建民     1.0   1979  胡  建民     hu   \n",
      "1  000000A14B95AB62F8039C17FB74807C       李忆寒     1.0   1992  李  忆寒     li   \n",
      "2  0000016C853A706574E74B341A64F305       刘洪超     1.0   1991  刘  洪超    liu   \n",
      "3  00000293D29C774BD08993489C27E32E       马云霞     0.0   1972  马  云霞     ma   \n",
      "4  000002F2DA5C507AEF78D6AADE806BFB       高志意     1.0   1982  高  志意    gao   \n",
      "5  000003515C8EA11BD869EDE734458429        隋新     1.0   1988  隋   新    sui   \n",
      "6  00000360C8D7496D3AB87EA1B2C1CF56       石恒新     1.0   1939  石  恒新    shi   \n",
      "7  000003B8831A9C73E524DC31631784C9       黄自平     1.0   1969  黄  自平  huang   \n",
      "8  00000537442C5F01CB4D631EFC80A029       乔晋伟     1.0   1983  乔  晋伟   qiao   \n",
      "9  0000055FF3965E454CC3727079F814FB       周海兵     1.0   1987  周  海兵   zhou   \n",
      "\n",
      "      fname    拼音总数量   拼音男性数量    拼音男性概率    汉字总数量   汉字男性数量    汉字男性概率  \n",
      "0   jianmin  20551.0  18462.0  0.898350  14295.0  13883.0  0.971179  \n",
      "1     yihan   1012.0    491.0  0.485178      4.0      3.0  0.750000  \n",
      "2  hongchao   3199.0   3021.0  0.944358   1061.0   1011.0  0.952875  \n",
      "3    yunxia   7406.0    190.0  0.025655   6192.0    109.0  0.017603  \n",
      "4     zhiyi   4726.0   4271.0  0.903724     77.0     59.0  0.766234  \n",
      "5       xin  73600.0  51661.0  0.701916  14250.0  11209.0  0.786596  \n",
      "6   hengxin    429.0    396.0  0.923077    206.0    191.0  0.927184  \n",
      "7    ziping   2217.0   1700.0  0.766802    543.0    489.0  0.900552  \n",
      "8    jinwei   5756.0   5284.0  0.917999    255.0    253.0  0.992157  \n",
      "9   haibing   5046.0   4905.0  0.972057   4675.0   4613.0  0.986738  \n"
     ]
    }
   ],
   "source": [
    "#add headers to the dataset\n",
    "\n",
    "input_file = '/.../.../ChineseGender_cleaned1.txt'\n",
    "df = pd.read_csv(input_file, delimiter='\\t', header=None)\n",
    "headers = [\n",
    "    \"id\", \"orig_name\", \"gender\", \"b_year\", \"姓\", \"名\", \n",
    "    \"lname\", \"fname\", \"拼音总数量\", \"拼音男性数量\", \"拼音男性概率\",\n",
    "    \"汉字总数量\", \"汉字男性数量\", \"汉字男性概率\"\n",
    "]\n",
    "df.columns = headers\n",
    "\n",
    "with open(input_file, 'w', encoding='utf-8') as outfile:\n",
    "    df.to_csv(outfile, sep='\\t', index=False)\n",
    "print(\"前十行预览：\")\n",
    "print(df.head(10))"
   ]
  },
  {
   "cell_type": "code",
   "execution_count": 7,
   "id": "c0de8375-56a6-4ba9-82c1-e595cc014665",
   "metadata": {},
   "outputs": [
    {
     "name": "stdout",
     "output_type": "stream",
     "text": [
      "\n",
      "统计结果：\n",
      "字 '调' 出现在 394 个姓名中。\n",
      "字 '朝' 出现在 2622 个姓名中。\n",
      "字 '茜' 出现在 875 个姓名中。\n",
      "字 '乐' 出现在 2306 个姓名中。\n",
      "字 '六' 出现在 1122 个姓名中。\n",
      "字 '柏' 出现在 1889 个姓名中。\n",
      "字 '劲' 出现在 1009 个姓名中。\n",
      "字 '角' 出现在 216 个姓名中。\n",
      "字 '重' 出现在 1239 个姓名中。\n",
      "字 '长' 出现在 2858 个姓名中。\n",
      "字 '奇' 出现在 2336 个姓名中。\n",
      "字 '露' 出现在 1163 个姓名中。\n",
      "字 '传' 出现在 2712 个姓名中。\n"
     ]
    }
   ],
   "source": [
    "#see how many common polyphonetic characters with different pinyin forms in the dataset\n",
    "import csv\n",
    "from collections import defaultdict\n",
    "\n",
    "names_file = \"/.../.../ChineseGender_cleaned1.txt\"\n",
    "filtered_names = []\n",
    "name_column_index = None\n",
    "\n",
    "with open(names_file, 'r', encoding='utf-8') as file:\n",
    "    lines = file.readlines()\n",
    "    header = lines[0].strip().split(\"\\t\")  # 假设是制表符分隔\n",
    "    if \"名\" in header:\n",
    "        name_column_index = header.index(\"名\")\n",
    "    else:\n",
    "        raise ValueError(\"文件中未找到“名”这一列，请检查文件格式！\")\n",
    "    for line in lines[1:]:\n",
    "        parts = line.strip().split(\"\\t\")\n",
    "        if len(parts) > name_column_index:\n",
    "            filtered_names.append(parts[name_column_index])\n",
    "\n",
    "target_chars = {\"长\", \"传\", \"朝\", \"乐\", \"奇\", \"露\", \"劲\", \"茜\", \"六\", \"重\", \"调\", \"柏\", \"角\"}\n",
    "char_to_names = defaultdict(set)  \n",
    "\n",
    "for name in filtered_names:\n",
    "    for char in name:\n",
    "        if char in target_chars:\n",
    "            char_to_names[char].add(name)  \n",
    "\n",
    "print(\"\\n统计结果：\")\n",
    "for char in target_chars:\n",
    "    name_count = len(char_to_names[char])  \n",
    "    print(f\"字 '{char}' 出现在 {name_count} 个姓名中。\")\n",
    "\n"
   ]
  }
 ],
 "metadata": {
  "kernelspec": {
   "display_name": "Python 3 (ipykernel)",
   "language": "python",
   "name": "python3"
  },
  "language_info": {
   "codemirror_mode": {
    "name": "ipython",
    "version": 3
   },
   "file_extension": ".py",
   "mimetype": "text/x-python",
   "name": "python",
   "nbconvert_exporter": "python",
   "pygments_lexer": "ipython3",
   "version": "3.12.4"
  }
 },
 "nbformat": 4,
 "nbformat_minor": 5
}
