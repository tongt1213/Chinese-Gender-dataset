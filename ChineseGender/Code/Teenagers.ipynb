{
 "cells": [
  {
   "cell_type": "code",
   "execution_count": 2,
   "id": "c7a9c15b-8cb2-4aeb-a273-71c8618a9616",
   "metadata": {},
   "outputs": [
    {
     "name": "stdout",
     "output_type": "stream",
     "text": [
      "             来源   姓名 性别  Unnamed: 3  Unnamed: 4       男       女       Σ\n",
      "0   14-FDU-ZZZS   艾超  男         NaN         NaN  4900.0  4900.0  9800.0\n",
      "1   14-ZJU-ZZZS  艾方洲  男         NaN         NaN     NaN     NaN     NaN\n",
      "2   14-FDU-ZZZS  艾临风  男         NaN         NaN     NaN     NaN     NaN\n",
      "3  201211172043   艾艺  女         NaN         NaN     NaN     NaN     NaN\n",
      "4  14-QHDX-ZZZS  艾章习  女         NaN         NaN     NaN     NaN     NaN\n",
      "5      14-Sport  安婧雯  女         NaN         NaN     NaN     NaN     NaN\n",
      "6  201211121927   安岚  女         NaN         NaN     NaN     NaN     NaN\n",
      "7  14-BJDX-ZZZS   安曼  女         NaN         NaN     NaN     NaN     NaN\n",
      "8  201311081186  安孟瑶  女         NaN         NaN     NaN     NaN     NaN\n",
      "9  201311232051   安乔  女         NaN         NaN     NaN     NaN     NaN\n"
     ]
    }
   ],
   "source": [
    "#check raw dataset of 9800 teenagers\n",
    "import pandas as pd\n",
    "filepath = '/.../9800ChineseNamesnamegender.xlsx'\n",
    "data = pd.read_excel(filepath)\n",
    "print(data.head(10))"
   ]
  },
  {
   "cell_type": "code",
   "execution_count": 34,
   "id": "1e5087d7-64ba-419b-b4ef-446786b766dd",
   "metadata": {},
   "outputs": [
    {
     "name": "stdout",
     "output_type": "stream",
     "text": [
      "新的文件已保存到: /Users/tongtong/Documents/python/teenagers_rawdata.csv\n"
     ]
    }
   ],
   "source": [
    "#data preprocessing & converting names from Chinese to Pinyin fromats\n",
    "#Delete lines containing letters, numbers, and punctuation.\n",
    "#Limit the name length to 4.\n",
    "\n",
    "import re\n",
    "from pypinyin import pinyin, Style\n",
    "\n",
    "file_path = '/.../9800ChineseNamesnamegender.xlsx'\n",
    "data = pd.read_excel(file_path)\n",
    "\n",
    "compound_surnames_dict = {\n",
    "    1: \"欧阳\", 2: \"太史\", 3: \"端木\", 4: \"上官\", 5: \"司马\", 6: \"东方\", 7: \"独孤\", 8: \"南宫\", 9: \"万俟\", 10: \"闻人\",\n",
    "    11: \"夏侯\", 12: \"诸葛\", 13: \"尉迟\", 14: \"公羊\", 15: \"赫连\", 16: \"澹台\", 17: \"皇甫\", 18: \"宗政\", 19: \"濮阳\",\n",
    "    20: \"公冶\", 21: \"太叔\", 22: \"申屠\", 23: \"公孙\", 24: \"慕容\", 25: \"仲孙\", 26: \"钟离\", 27: \"长孙\", 28: \"宇文\",\n",
    "    29: \"司徒\", 30: \"鲜于\", 31: \"司空\", 32: \"闾丘\", 33: \"子车\", 34: \"亓官\", 35: \"司寇\", 36: \"巫马\", 37: \"公西\",\n",
    "    38: \"颛孙\", 39: \"壤驷\", 40: \"公良\", 41: \"漆雕\", 42: \"乐正\", 43: \"宰父\", 44: \"谷梁\", 45: \"拓跋\", 46: \"夹谷\",\n",
    "    47: \"轩辕\", 48: \"令狐\", 49: \"段干\", 50: \"百里\", 51: \"呼延\", 52: \"东郭\", 53: \"南门\", 54: \"羊舌\", 55: \"微生\",\n",
    "    56: \"公户\", 57: \"公玉\", 58: \"公仪\", 59: \"梁丘\", 60: \"公仲\", 61: \"公上\", 62: \"公门\", 63: \"公山\", 64: \"公坚\",\n",
    "    65: \"左丘\", 66: \"公伯\", 67: \"西门\", 68: \"公祖\", 69: \"第五\", 70: \"公乘\", 71: \"贯丘\", 72: \"公皙\", 73: \"南荣\",\n",
    "    74: \"东里\", 75: \"东宫\", 76: \"仲长\", 77: \"子书\", 78: \"子桑\", 79: \"即墨\", 80: \"达奚\", 81: \"褚师\", 82: \"吴铭\"\n",
    "}\n",
    "\n",
    "surnames = list(compound_surnames_dict.values())\n",
    "\n",
    "def split_name(full_name):\n",
    "    for surname in surnames:\n",
    "        if full_name.startswith(surname):\n",
    "            return surname, full_name[len(surname):]\n",
    "    return full_name[0], full_name[1:]\n",
    "\n",
    "data[['surname', 'given_name']] = data['姓名'].apply(lambda x: pd.Series(split_name(x)))\n",
    "\n",
    "corrections = {\n",
    "    '思': 'si', \n",
    "    '育': 'yu',\n",
    "    '若': 'ruo',\n",
    "    '敦': 'dun',\n",
    "    '朴': 'pu',\n",
    "    '露': 'lu',\n",
    "    '陆': 'lu',\n",
    "    '男': 'nan',\n",
    "    '南': 'nan',\n",
    "    '楠': 'nan',\n",
    "    '钠': 'na',\n",
    "    '娜': 'na',\n",
    "    '拓': 'tuo',\n",
    "    '觉': 'jue',\n",
    "}\n",
    "\n",
    "def convert_to_pinyin(name):\n",
    "    pinyin_list = [item[0] for item in pinyin(name, style=Style.NORMAL)]\n",
    "    corrected_pinyin = [corrections.get(char, pinyin_list[idx]) for idx, char in enumerate(name)]\n",
    "    return ''.join(corrected_pinyin)\n",
    "\n",
    "data['given_name_pinyin'] = data['given_name'].apply(lambda x: convert_to_pinyin(x))\n",
    "\n",
    "data['gender_numeric'] = data['性别'].apply(lambda x: 1 if x == '男' else 0 if x == '女' else x)\n",
    "filtered_data = data[['姓名', '性别', 'surname', 'given_name', 'given_name_pinyin', 'gender_numeric']].copy()\n",
    "\n",
    "filtered_data['country'] = 'CN'\n",
    "\n",
    "output_path = '/.../teenagers_rawdata.csv'\n",
    "filtered_data.to_csv(output_path, index=False)\n",
    "\n",
    "print(\"新的文件已保存到:\", output_path)\n"
   ]
  },
  {
   "cell_type": "code",
   "execution_count": null,
   "id": "4fad7d59-6598-4b12-ad01-957af17c3a8d",
   "metadata": {},
   "outputs": [],
   "source": [
    "#After getting the results from Genderize.io, we have the file:\n",
    "teenagers_genderize.csv"
   ]
  },
  {
   "cell_type": "code",
   "execution_count": 36,
   "id": "b6906dee-3c25-4ddd-9686-c0eb7fdc613c",
   "metadata": {},
   "outputs": [
    {
     "name": "stdout",
     "output_type": "stream",
     "text": [
      "合并完成，最终行数： 9800\n"
     ]
    }
   ],
   "source": [
    "#Merge the raw factual data and Genderize.io results.\n",
    "\n",
    "df_genderize = pd.read_csv(\n",
    "    \"/.../teenagers_genderize.csv\", \n",
    "    sep=\"\\t\"\n",
    ")\n",
    "df_data = pd.read_csv(\n",
    "    \"/.../teenagers_rawdata.csv\", \n",
    "    sep=\",\"\n",
    ")\n",
    "\n",
    "df_genderize_unique = df_genderize.drop_duplicates(subset='name', keep='first')\n",
    "df_merged = df_data.merge(\n",
    "    df_genderize_unique, \n",
    "    how='left', \n",
    "    left_on='given_name_pinyin', \n",
    "    right_on='name'\n",
    ")\n",
    "\n",
    "df_merged.to_csv(\n",
    "    \"/.../teenagers_merged0.csv\", \n",
    "    sep=\"\\t\", \n",
    "    index=False\n",
    ")\n",
    "\n",
    "print(\"合并完成，最终行数：\", len(df_merged))\n"
   ]
  },
  {
   "cell_type": "code",
   "execution_count": 58,
   "id": "e23b6df2-8fe3-448b-8cea-14a578f418b1",
   "metadata": {},
   "outputs": [
    {
     "name": "stderr",
     "output_type": "stream",
     "text": [
      "/var/folders/51/w5vwjwvj7wl_p7txgvf8ypbr0000gn/T/ipykernel_755/2446136527.py:11: DtypeWarning: Columns (3) have mixed types. Specify dtype option on import or set low_memory=False.\n",
      "  gudong_after_df = pd.read_csv(gudong_after_file, sep='\\t', on_bad_lines='skip')\n"
     ]
    },
    {
     "name": "stdout",
     "output_type": "stream",
     "text": [
      "成功读取股东数据，列名如下： Index(['id', 'orig_name', 'gender', 'b_year', '姓', '名', 'lname', 'fname',\n",
      "       '拼音总数量', '拼音男性数量', '拼音男性概率', '汉字总数量', '汉字男性数量', '汉字男性概率'],\n",
      "      dtype='object')\n",
      "成功读取真值数据，列名如下： Index(['姓名', '性别', 'surname', 'given_name', 'given_name_pinyin',\n",
      "       'gender_numeric', 'country_x', 'name', 'country_y', 'Gender',\n",
      "       'Gender Probability', 'Gender Count'],\n",
      "      dtype='object')\n"
     ]
    },
    {
     "name": "stderr",
     "output_type": "stream",
     "text": [
      "Processing: 100%|█████████████████████| 9800/9800 [00:00<00:00, 442280.03rows/s]"
     ]
    },
    {
     "name": "stdout",
     "output_type": "stream",
     "text": [
      "数据处理完成，结果已写入： /Users/tongtong/Documents/python/teenagers.csv\n",
      "处理后的前 10 行：\n",
      "    姓名 性别 surname given_name given_name_pinyin  gender_numeric country_x  \\\n",
      "0   艾超  男       艾          超              chao               1        CN   \n",
      "1  艾方洲  男       艾         方洲          fangzhou               1        CN   \n",
      "2  艾临风  男       艾         临风           linfeng               1        CN   \n",
      "3   艾艺  女       艾          艺                yi               0        CN   \n",
      "4  艾章习  女       艾         章习           zhangxi               0        CN   \n",
      "5  安婧雯  女       安         婧雯           jingwen               0        CN   \n",
      "6   安岚  女       安          岚               lan               0        CN   \n",
      "7   安曼  女       安          曼               man               0        CN   \n",
      "8  安孟瑶  女       安         孟瑶           mengyao               0        CN   \n",
      "9   安乔  女       安          乔              qiao               0        CN   \n",
      "\n",
      "       name country_y  Gender  Gender Probability  Gender Count    汉字总数量  \\\n",
      "0      chao        CN    male                0.89           878  58416.0   \n",
      "1  fangzhou        CN    male                0.67             9     76.0   \n",
      "2   linfeng        CN    male                0.82            38     14.0   \n",
      "3        yi        CN    male                0.60          1292   5038.0   \n",
      "4   zhangxi        CN  female                0.67             3      1.0   \n",
      "5   jingwen        CN  female                0.82            77    117.0   \n",
      "6       lan        CN  female                0.82           628   6048.0   \n",
      "7       man        CN    male                0.67           359   2784.0   \n",
      "8   mengyao        CN  female                0.86            35     22.0   \n",
      "9      qiao        CN  female                0.56           177    954.0   \n",
      "\n",
      "     汉字男性概率    拼音总数量    拼音男性概率 genderize_predict_male  \n",
      "0  0.926031  61220.0  0.924812                   0.89  \n",
      "1  0.947368    468.0  0.869658                   0.67  \n",
      "2  0.928571   3929.0  0.794350                   0.82  \n",
      "3  0.469234  84150.0  0.742115                    0.6  \n",
      "4  1.000000   1437.0  0.978427                   0.33  \n",
      "5  0.000000   5673.0  0.604090                   0.18  \n",
      "6  0.119874  17744.0  0.081661                   0.18  \n",
      "7  0.056034   5773.0  0.267105                   0.67  \n",
      "8  0.227273    532.0  0.186090                   0.14  \n",
      "9  0.683438   5300.0  0.494528                   0.44  \n"
     ]
    },
    {
     "name": "stderr",
     "output_type": "stream",
     "text": [
      "\n"
     ]
    }
   ],
   "source": [
    "#Merge with ChineseGender dataset \n",
    "import numpy as np\n",
    "from tqdm import tqdm\n",
    "\n",
    "merged_truth_file = '/Users/tongtong/Documents/python/teenagers_merged0.csv'\n",
    "chinese_gender_file = '/Users/tongtong/Documents/python/ChineseGender_cleaned1.txt'\n",
    "output_file = '/Users/tongtong/Documents/python/teenagers.csv'\n",
    "\n",
    "chinese_gender_file_df = pd.read_csv(chinese_gender_file, sep='\\t', on_bad_lines='skip')\n",
    "print(\"成功读取股东数据，列名如下：\", chinese_gender_file_df.columns)\n",
    "\n",
    "if 'fname' not in chinese_gender_file_df.columns:\n",
    "    for col in chinese_gender_file_df.columns:\n",
    "        if 'given_name' in col.lower() or 'en' in col.lower():\n",
    "            chinese_gender_file_df.rename(columns={col: 'fname'}, inplace=True)\n",
    "\n",
    "chinese_gender_file_df_df = chinese_gender_file_df[['名', '汉字总数量', '汉字男性概率', 'fname', '拼音总数量', '拼音男性概率']]\n",
    "chinese_gender_file_df_hanzi = chinese_gender_file_df.drop_duplicates(subset='名', keep='first')\n",
    "chinese_gender_file_df_pinyin = chinese_gender_file_df.drop_duplicates(subset='fname', keep='first')\n",
    "hanzi_dict = chinese_gender_file_df_hanzi.set_index('名')[['汉字总数量', '汉字男性概率']].to_dict(orient='index')\n",
    "pinyin_dict = chinese_gender_file_df_pinyin.set_index('fname')[['拼音总数量', '拼音男性概率']].to_dict(orient='index')\n",
    "\n",
    "merged_truth_df = pd.read_csv(merged_truth_file, sep='\\t')\n",
    "print(\"成功读取真值数据，列名如下：\", merged_truth_df.columns)\n",
    "\n",
    "if 'given_name' not in merged_truth_df.columns:\n",
    "    print(\"错误：未找到 'given_name' 列，检查列名是否匹配\")\n",
    "    raise ValueError(\"'given_name' 列不存在，请检查真值文件的内容！\")\n",
    "\n",
    "if 'given_name_pinyin' not in merged_truth_df.columns:\n",
    "    print(\"错误：未找到 'given_name_pinyin' 列，检查列名是否匹配\")\n",
    "    raise ValueError(\"'given_name_pinyin' 列不存在，请检查真值文件的内容！\")\n",
    "\n",
    "total_rows = len(merged_truth_df)\n",
    "\n",
    "def process_merged_truth_file(chunk_size=10000):\n",
    "    for chunk in pd.read_csv(merged_truth_file, sep='\\t', chunksize=chunk_size):\n",
    "        chunk['汉字总数量'] = chunk['given_name'].map(lambda x: hanzi_dict.get(x, {}).get('汉字总数量'))\n",
    "        chunk['汉字男性概率'] = chunk['given_name'].map(lambda x: hanzi_dict.get(x, {}).get('汉字男性概率'))\n",
    "        chunk['拼音总数量'] = chunk['given_name_pinyin'].map(lambda x: pinyin_dict.get(x, {}).get('拼音总数量'))\n",
    "        chunk['拼音男性概率'] = chunk['given_name_pinyin'].map(lambda x: pinyin_dict.get(x, {}).get('拼音男性概率'))\n",
    "        yield chunk\n",
    "\n",
    "all_chunks = []\n",
    "with tqdm(total=total_rows, desc=\"Processing\", unit=\"rows\") as pbar:\n",
    "    for result_chunk in process_merged_truth_file():\n",
    "        all_chunks.append(result_chunk)\n",
    "        pbar.update(len(result_chunk))\n",
    "result_df = pd.concat(all_chunks, ignore_index=True)\n",
    "#converting the results from genderize.io to male propbability \n",
    "result_df['genderize_predict_male'] = np.where(\n",
    "    result_df['Gender'] == 'male', \n",
    "    result_df['Gender Probability'],\n",
    "    np.where(result_df['Gender'] == 'female', 1 - result_df['Gender Probability'], None)\n",
    ")\n",
    "\n",
    "result_df.to_csv(output_file, sep='\\t', index=False)\n",
    "print(\"数据处理完成，结果已写入：\", output_file)\n",
    "print(\"处理后的前 10 行：\")\n",
    "print(result_df.head(10))\n"
   ]
  }
 ],
 "metadata": {
  "kernelspec": {
   "display_name": "Python 3 (ipykernel)",
   "language": "python",
   "name": "python3"
  },
  "language_info": {
   "codemirror_mode": {
    "name": "ipython",
    "version": 3
   },
   "file_extension": ".py",
   "mimetype": "text/x-python",
   "name": "python",
   "nbconvert_exporter": "python",
   "pygments_lexer": "ipython3",
   "version": "3.12.4"
  }
 },
 "nbformat": 4,
 "nbformat_minor": 5
}
